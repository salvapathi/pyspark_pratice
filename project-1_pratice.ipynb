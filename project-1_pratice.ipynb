{
 "cells": [
  {
   "cell_type": "code",
   "execution_count": 1,
   "metadata": {},
   "outputs": [
    {
     "data": {
      "text/html": [
       "\n",
       "            <div>\n",
       "                <p><b>SparkSession - in-memory</b></p>\n",
       "                \n",
       "        <div>\n",
       "            <p><b>SparkContext</b></p>\n",
       "\n",
       "            <p><a href=\"http://DESKTOP-ILFB71R:4040\">Spark UI</a></p>\n",
       "\n",
       "            <dl>\n",
       "              <dt>Version</dt>\n",
       "                <dd><code>v3.5.0</code></dd>\n",
       "              <dt>Master</dt>\n",
       "                <dd><code>local[*]</code></dd>\n",
       "              <dt>AppName</dt>\n",
       "                <dd><code>Billioners_data</code></dd>\n",
       "            </dl>\n",
       "        </div>\n",
       "        \n",
       "            </div>\n",
       "        "
      ],
      "text/plain": [
       "<pyspark.sql.session.SparkSession at 0x235837bea10>"
      ]
     },
     "execution_count": 1,
     "metadata": {},
     "output_type": "execute_result"
    }
   ],
   "source": [
    "import pyspark\n",
    "from pyspark.sql import SparkSession\n",
    "spark = SparkSession.builder.appName(\"Billioners_data\").getOrCreate()\n",
    "spark"
   ]
  },
  {
   "cell_type": "code",
   "execution_count": 2,
   "metadata": {},
   "outputs": [],
   "source": [
    "from pyspark.sql.functions import *\n",
    "from pyspark.sql.functions import col, when\n",
    "from pyspark.sql.types import *"
   ]
  },
  {
   "cell_type": "code",
   "execution_count": 3,
   "metadata": {},
   "outputs": [
    {
     "name": "stdout",
     "output_type": "stream",
     "text": [
      "+----+----------+--------------------+--------------------+---+-------------+-----------+--------------------+--------------------+--------------------+--------------------+--------+------+------+---------------+------------------+---------+--------------------+-------------+----------+--------------------+---------+----------+--------+-----------+------------------+--------------------+-----------------------------------+------------------------------------------+-----------------------+---------------------------+----------------------+------------------+----------------+-----------------+\n",
      "|rank|finalWorth|            category|          personName|age|      country|       city|              source|          industries|countryOfCitizenship|        organization|selfMade|status|gender|      birthDate|          lastName|firstName|               title|         date|     state|residenceStateRegion|birthYear|birthMonth|birthDay|cpi_country|cpi_change_country|         gdp_country|gross_tertiary_education_enrollment|gross_primary_education_enrollment_country|life_expectancy_country|tax_revenue_country_country|total_tax_rate_country|population_country|latitude_country|longitude_country|\n",
      "+----+----------+--------------------+--------------------+---+-------------+-----------+--------------------+--------------------+--------------------+--------------------+--------+------+------+---------------+------------------+---------+--------------------+-------------+----------+--------------------+---------+----------+--------+-----------+------------------+--------------------+-----------------------------------+------------------------------------------+-----------------------+---------------------------+----------------------+------------------+----------------+-----------------+\n",
      "|   1|    211000|    Fashion & Retail|Bernard Arnault &...| 74|       France|      Paris|                LVMH|    Fashion & Retail|              France|LVMH Moët Henness...|   false|     U|     M|  3/5/1949 0:00|           Arnault|  Bernard|    Chairman and CEO|4/4/2023 5:01|      NULL|                NULL|     1949|         3|       5|     110.05|               1.1| $2,715,518,274,227 |                               65.6|                                     102.5|                   82.5|                       24.2|                  60.7|          67059887|       46.227638|         2.213749|\n",
      "|   2|    180000|          Automotive|           Elon Musk| 51|United States|     Austin|       Tesla, SpaceX|          Automotive|       United States|               Tesla|    true|     D|     M| 6/28/1971 0:00|              Musk|     Elon|                 CEO|4/4/2023 5:01|     Texas|               South|     1971|         6|      28|     117.24|               7.5|$21,427,700,000,000 |                               88.2|                                     101.8|                   78.5|                        9.6|                  36.6|         328239523|        37.09024|       -95.712891|\n",
      "|   3|    114000|          Technology|          Jeff Bezos| 59|United States|     Medina|              Amazon|          Technology|       United States|              Amazon|    true|     D|     M| 1/12/1964 0:00|             Bezos|     Jeff|Chairman and Founder|4/4/2023 5:01|Washington|                West|     1964|         1|      12|     117.24|               7.5|$21,427,700,000,000 |                               88.2|                                     101.8|                   78.5|                        9.6|                  36.6|         328239523|        37.09024|       -95.712891|\n",
      "|   4|    107000|          Technology|       Larry Ellison| 78|United States|      Lanai|              Oracle|          Technology|       United States|              Oracle|    true|     U|     M| 8/17/1944 0:00|           Ellison|    Larry|     CTO and Founder|4/4/2023 5:01|    Hawaii|                West|     1944|         8|      17|     117.24|               7.5|$21,427,700,000,000 |                               88.2|                                     101.8|                   78.5|                        9.6|                  36.6|         328239523|        37.09024|       -95.712891|\n",
      "|   5|    106000|Finance & Investm...|      Warren Buffett| 92|United States|      Omaha|  Berkshire Hathaway|Finance & Investm...|       United States|Berkshire Hathawa...|    true|     D|     M| 8/30/1930 0:00|           Buffett|   Warren|                 CEO|4/4/2023 5:01|  Nebraska|             Midwest|     1930|         8|      30|     117.24|               7.5|$21,427,700,000,000 |                               88.2|                                     101.8|                   78.5|                        9.6|                  36.6|         328239523|        37.09024|       -95.712891|\n",
      "|   6|    104000|          Technology|          Bill Gates| 67|United States|     Medina|           Microsoft|          Technology|       United States|Bill & Melinda Ga...|    true|     D|     M|10/28/1955 0:00|             Gates|     Bill|             Cochair|4/4/2023 5:01|Washington|                West|     1955|        10|      28|     117.24|               7.5|$21,427,700,000,000 |                               88.2|                                     101.8|                   78.5|                        9.6|                  36.6|         328239523|        37.09024|       -95.712891|\n",
      "|   7|     94500|Media & Entertain...|   Michael Bloomberg| 81|United States|   New York|        Bloomberg LP|Media & Entertain...|       United States|           Bloomberg|    true|     U|     M| 2/14/1942 0:00|         Bloomberg|  Michael|                 CEO|4/4/2023 5:01|  New York|           Northeast|     1942|         2|      14|     117.24|               7.5|$21,427,700,000,000 |                               88.2|                                     101.8|                   78.5|                        9.6|                  36.6|         328239523|        37.09024|       -95.712891|\n",
      "|   8|     93000|             Telecom|Carlos Slim Helu ...| 83|       Mexico|Mexico City|             Telecom|             Telecom|              Mexico|       América Móvil|    true|     U|     M| 1/28/1940 0:00|         Slim Helu|   Carlos|   Honorary Chairman|4/4/2023 5:01|      NULL|                NULL|     1940|         1|      28|     141.54|               3.6| $1,258,286,717,125 |                               40.2|                                     105.8|                   75.0|                       13.1|                  55.1|         126014024|       23.634501|      -102.552784|\n",
      "|   9|     83400|         Diversified|       Mukesh Ambani| 65|        India|     Mumbai|         Diversified|         Diversified|               India| Reliance Industries|   false|     D|     M| 4/19/1957 0:00|            Ambani|   Mukesh|Founder and Chairman|4/4/2023 5:01|      NULL|                NULL|     1957|         4|      19|     180.44|               7.7| $2,611,000,000,000 |                               28.1|                                     113.0|                   69.4|                       11.2|                  49.7|        1366417754|       20.593684|         78.96288|\n",
      "|  10|     80700|          Technology|       Steve Ballmer| 67|United States|Hunts Point|           Microsoft|          Technology|       United States|Los Angeles Clippers|    true|     D|     M| 3/24/1956 0:00|           Ballmer|    Steve|               Owner|4/4/2023 5:01|Washington|                West|     1956|         3|      24|     117.24|               7.5|$21,427,700,000,000 |                               88.2|                                     101.8|                   78.5|                        9.6|                  36.6|         328239523|        37.09024|       -95.712891|\n",
      "|  11|     80500|    Fashion & Retail|Francoise Bettenc...| 69|       France|      Paris|             L'Oréal|    Fashion & Retail|              France|                NULL|   false|     U|     F| 7/10/1953 0:00|Bettencourt Meyers|Francoise|                NULL|4/4/2023 5:01|      NULL|                NULL|     1953|         7|      10|     110.05|               1.1| $2,715,518,274,227 |                               65.6|                                     102.5|                   82.5|                       24.2|                  60.7|          67059887|       46.227638|         2.213749|\n",
      "|  12|     79200|          Technology|          Larry Page| 50|United States|  Palo Alto|              Google|          Technology|       United States|            Alphabet|    true|     D|     M| 3/26/1973 0:00|              Page|    Larry|Cofounder and boa...|4/4/2023 5:01|California|                West|     1973|         3|      26|     117.24|               7.5|$21,427,700,000,000 |                               88.2|                                     101.8|                   78.5|                        9.6|                  36.6|         328239523|        37.09024|       -95.712891|\n",
      "|  13|     77300|    Fashion & Retail|      Amancio Ortega| 87|        Spain|  La Coruna|                Zara|    Fashion & Retail|               Spain|                NULL|    true|     U|     M| 3/28/1936 0:00|            Ortega|  Amancio|                NULL|4/4/2023 5:01|      NULL|                NULL|     1936|         3|      28|     110.96|               0.7| $1,394,116,310,769 |                               88.9|                                     102.7|                   83.3|                       14.2|                  47.0|          47076781|       40.463667|         -3.74922|\n",
      "|  14|     76000|          Technology|         Sergey Brin| 49|United States|  Los Altos|              Google|          Technology|       United States|            Alphabet|    true|     D|     M| 8/21/1973 0:00|              Brin|   Sergey|Cofounder and boa...|4/4/2023 5:01|California|                West|     1973|         8|      21|     117.24|               7.5|$21,427,700,000,000 |                               88.2|                                     101.8|                   78.5|                        9.6|                  36.6|         328239523|        37.09024|       -95.712891|\n",
      "|  15|     68000|     Food & Beverage|      Zhong Shanshan| 68|        China|   Hangzhou|Beverages, pharma...|     Food & Beverage|               China|                NULL|    true|     U|     M| 12/1/1954 0:00|             Zhong| Shanshan|                NULL|4/4/2023 5:01|      NULL|                NULL|     1954|        12|       1|     125.08|               2.9|$19,910,000,000,000 |                               50.6|                                     100.2|                   77.0|                        9.4|                  59.2|        1397715000|        35.86166|       104.195397|\n",
      "|  16|     64400|          Technology|     Mark Zuckerberg| 38|United States|  Palo Alto|            Facebook|          Technology|       United States|      Meta Platforms|    true|     D|     M| 5/14/1984 0:00|        Zuckerberg|     Mark|           Cofounder|4/4/2023 5:01|California|                West|     1984|         5|      14|     117.24|               7.5|$21,427,700,000,000 |                               88.2|                                     101.8|                   78.5|                        9.6|                  36.6|         328239523|        37.09024|       -95.712891|\n",
      "|  17|     59000|         Diversified|Charles Koch & fa...| 87|United States|    Wichita|     Koch Industries|         Diversified|       United States|Koch Industries, ...|   false|     D|     M| 11/1/1935 0:00|              Koch|  Charles|    Chairman and CEO|4/4/2023 5:01|    Kansas|             Midwest|     1935|        11|       1|     117.24|               7.5|$21,427,700,000,000 |                               88.2|                                     101.8|                   78.5|                        9.6|                  36.6|         328239523|        37.09024|       -95.712891|\n",
      "|  17|     59000|         Diversified| Julia Koch & family| 60|United States|   New York|     Koch Industries|         Diversified|       United States|                NULL|   false|     D|     F| 4/12/1962 0:00|              Koch|    Julia|                NULL|4/4/2023 5:01|  New York|           Northeast|     1962|         4|      12|     117.24|               7.5|$21,427,700,000,000 |                               88.2|                                     101.8|                   78.5|                        9.6|                  36.6|         328239523|        37.09024|       -95.712891|\n",
      "|  19|     58800|    Fashion & Retail|          Jim Walton| 74|United States|Bentonville|             Walmart|    Fashion & Retail|       United States|Arvest Bank Group...|   false|     D|     M|  6/7/1948 0:00|            Walton|      Jim|    Chairman and CEO|4/4/2023 5:01|  Arkansas|               South|     1948|         6|       7|     117.24|               7.5|$21,427,700,000,000 |                               88.2|                                     101.8|                   78.5|                        9.6|                  36.6|         328239523|        37.09024|       -95.712891|\n",
      "|  20|     57600|    Fashion & Retail| Rob Walton & family| 78|United States|Bentonville|             Walmart|    Fashion & Retail|       United States|             Walmart|   false|     D|     M|10/27/1944 0:00|            Walton|      Rob|            Director|4/4/2023 5:01|  Arkansas|               South|     1944|        10|      27|     117.24|               7.5|$21,427,700,000,000 |                               88.2|                                     101.8|                   78.5|                        9.6|                  36.6|         328239523|        37.09024|       -95.712891|\n",
      "+----+----------+--------------------+--------------------+---+-------------+-----------+--------------------+--------------------+--------------------+--------------------+--------+------+------+---------------+------------------+---------+--------------------+-------------+----------+--------------------+---------+----------+--------+-----------+------------------+--------------------+-----------------------------------+------------------------------------------+-----------------------+---------------------------+----------------------+------------------+----------------+-----------------+\n",
      "only showing top 20 rows\n",
      "\n"
     ]
    }
   ],
   "source": [
    "#reading the file \n",
    "data=spark.read.csv(r\"C:\\Users\\DELL\\Downloads\\cvs files\\Billionaires Statistics Dataset.csv\",header=True,inferSchema=True)\n",
    "data.show()"
   ]
  },
  {
   "cell_type": "code",
   "execution_count": 11,
   "metadata": {},
   "outputs": [
    {
     "name": "stdout",
     "output_type": "stream",
     "text": [
      "root\n",
      " |-- rank: integer (nullable = true)\n",
      " |-- finalWorth: integer (nullable = true)\n",
      " |-- category: string (nullable = true)\n",
      " |-- personName: string (nullable = true)\n",
      " |-- age: integer (nullable = true)\n",
      " |-- country: string (nullable = true)\n",
      " |-- city: string (nullable = true)\n",
      " |-- source: string (nullable = true)\n",
      " |-- industries: string (nullable = true)\n",
      " |-- countryOfCitizenship: string (nullable = true)\n",
      " |-- organization: string (nullable = true)\n",
      " |-- selfMade: boolean (nullable = true)\n",
      " |-- status: string (nullable = true)\n",
      " |-- gender: string (nullable = true)\n",
      " |-- birthDate: string (nullable = true)\n",
      " |-- lastName: string (nullable = true)\n",
      " |-- firstName: string (nullable = true)\n",
      " |-- title: string (nullable = true)\n",
      " |-- date: string (nullable = true)\n",
      " |-- state: string (nullable = true)\n",
      " |-- residenceStateRegion: string (nullable = true)\n",
      " |-- birthYear: integer (nullable = true)\n",
      " |-- birthMonth: integer (nullable = true)\n",
      " |-- birthDay: integer (nullable = true)\n",
      " |-- cpi_country: double (nullable = true)\n",
      " |-- cpi_change_country: double (nullable = true)\n",
      " |-- gdp_country: string (nullable = true)\n",
      " |-- gross_tertiary_education_enrollment: double (nullable = true)\n",
      " |-- gross_primary_education_enrollment_country: double (nullable = true)\n",
      " |-- life_expectancy_country: double (nullable = true)\n",
      " |-- tax_revenue_country_country: double (nullable = true)\n",
      " |-- total_tax_rate_country: double (nullable = true)\n",
      " |-- population_country: integer (nullable = true)\n",
      " |-- latitude_country: double (nullable = true)\n",
      " |-- longitude_country: double (nullable = true)\n",
      "\n"
     ]
    }
   ],
   "source": [
    "data.printSchema()"
   ]
  },
  {
   "cell_type": "code",
   "execution_count": 12,
   "metadata": {},
   "outputs": [
    {
     "name": "stdout",
     "output_type": "stream",
     "text": [
      "+-------+-----------------+-----------------+----------+------------------+------------------+-------+--------+-----------------+----------+--------------------+------------+------+------+-------------+-------------+---------+-------------+-------------+-------+--------------------+------------------+------------------+-----------------+------------------+------------------+-------------------+-----------------------------------+------------------------------------------+-----------------------+---------------------------+----------------------+-------------------+------------------+------------------+\n",
      "|summary|             rank|       finalWorth|  category|        personName|               age|country|    city|           source|industries|countryOfCitizenship|organization|status|gender|    birthDate|     lastName|firstName|        title|         date|  state|residenceStateRegion|         birthYear|        birthMonth|         birthDay|       cpi_country|cpi_change_country|        gdp_country|gross_tertiary_education_enrollment|gross_primary_education_enrollment_country|life_expectancy_country|tax_revenue_country_country|total_tax_rate_country| population_country|  latitude_country| longitude_country|\n",
      "+-------+-----------------+-----------------+----------+------------------+------------------+-------+--------+-----------------+----------+--------------------+------------+------+------+-------------+-------------+---------+-------------+-------------+-------+--------------------+------------------+------------------+-----------------+------------------+------------------+-------------------+-----------------------------------+------------------------------------------+-----------------------+---------------------------+----------------------+-------------------+------------------+------------------+\n",
      "|  count|             2640|             2640|      2640|              2640|              2575|   2602|    2568|             2640|      2640|                2640|         325|  2640|  2640|         2564|         2640|     2637|          339|         2640|    753|                 747|              2564|              2564|             2564|              2456|              2456|               2476|                               2458|                                      2459|                   2458|                       2457|                  2458|               2476|              2476|              2476|\n",
      "|   mean|1289.159090909091|4623.787878787879|      NULL|              NULL| 65.14019417475728|   NULL|    NULL|             NULL|      NULL|                NULL|        NULL|  NULL|  NULL|         NULL|          NaN|     NULL|         NULL|         NULL|   NULL|                NULL|1957.1833073322932| 5.740249609984399|12.09984399375975|127.75520358305991| 4.364169381107449|               NULL|                  67.22567127746223|                        102.85851972346518|      78.12282343368564|          12.54623524623537|     43.96334418226184|5.102053178392569E8| 34.90359153606623|12.583155795072688|\n",
      "| stddev|739.6937255187028|9834.240939420324|      NULL|              NULL|13.258097610684352|   NULL|    NULL|             NULL|      NULL|                NULL|        NULL|  NULL|  NULL|         NULL|         NULL|     NULL|         NULL|         NULL|   NULL|                NULL|13.282515673309517|3.7100850755936396|9.918875779908735|26.452951094889205|3.6237633275348875|               NULL|                 21.343426051826572|                         4.710977304667356|     3.7300989830062288|          5.368625212836805|     12.14529571907217| 5.54244732364653E8|17.003496866127843| 86.76298940889215|\n",
      "|    min|                1|             1000|Automotive|   A. Jayson Adair|                18|Algeria|A Coruña|      3D printing|Automotive|             Algeria|  ABC Supply|     D|     F|1/1/1924 0:00|Aarnio-Wihuri|A. Jayson|      Advisor|4/4/2023 5:01|Alabama|             Midwest|              1921|                 1|                1|             99.55|              -1.9|$1,119,190,780,753 |                                4.0|                                      84.7|                   54.3|                        0.1|                   9.9|              38019|        -40.900557|       -106.346771|\n",
      "|    max|             2540|           211000|   Telecom|Zygmunt Solorz-Zak|               101|Vietnam|  torino|software services|   Telecom|            Zimbabwe|        eBay|     U|     M|9/9/1988 0:00|    Österberg|  Zygmunt|owner and ceo|4/4/2023 9:01|Wyoming|                West|              2004|                12|               31|            288.57|              53.5|  $909,070,395,161 |                              136.6|                                     142.1|                   84.2|                       37.2|                 106.3|         1397715000|          61.92411|        174.885971|\n",
      "+-------+-----------------+-----------------+----------+------------------+------------------+-------+--------+-----------------+----------+--------------------+------------+------+------+-------------+-------------+---------+-------------+-------------+-------+--------------------+------------------+------------------+-----------------+------------------+------------------+-------------------+-----------------------------------+------------------------------------------+-----------------------+---------------------------+----------------------+-------------------+------------------+------------------+\n",
      "\n"
     ]
    }
   ],
   "source": [
    "data.describe().show()"
   ]
  },
  {
   "cell_type": "code",
   "execution_count": 13,
   "metadata": {},
   "outputs": [
    {
     "name": "stdout",
     "output_type": "stream",
     "text": [
      "+----+----------+--------+----------+---+-------+----+------+----------+--------------------+------------+--------+------+------+---------+--------+---------+-----+----+-----+--------------------+---------+----------+--------+-----------+------------------+-----------+-----------------------------------+------------------------------------------+-----------------------+---------------------------+----------------------+------------------+----------------+-----------------+\n",
      "|rank|finalWorth|category|personName|age|country|city|source|industries|countryOfCitizenship|organization|selfMade|status|gender|birthDate|lastName|firstName|title|date|state|residenceStateRegion|birthYear|birthMonth|birthDay|cpi_country|cpi_change_country|gdp_country|gross_tertiary_education_enrollment|gross_primary_education_enrollment_country|life_expectancy_country|tax_revenue_country_country|total_tax_rate_country|population_country|latitude_country|longitude_country|\n",
      "+----+----------+--------+----------+---+-------+----+------+----------+--------------------+------------+--------+------+------+---------+--------+---------+-----+----+-----+--------------------+---------+----------+--------+-----------+------------------+-----------+-----------------------------------+------------------------------------------+-----------------------+---------------------------+----------------------+------------------+----------------+-----------------+\n",
      "|   0|         0|       0|         0| 65|     38|  72|     0|         0|                   0|        2315|       0|     0|     0|       76|       0|        3| 2301|   0| 1887|                1893|       76|        76|      76|        184|               184|        164|                                182|                                       181|                    182|                        183|                   182|               164|             164|              164|\n",
      "+----+----------+--------+----------+---+-------+----+------+----------+--------------------+------------+--------+------+------+---------+--------+---------+-----+----+-----+--------------------+---------+----------+--------+-----------+------------------+-----------+-----------------------------------+------------------------------------------+-----------------------+---------------------------+----------------------+------------------+----------------+-----------------+\n",
      "\n"
     ]
    }
   ],
   "source": [
    "#To calculate the null values in the column\n",
    "null_counts=[sum(col(i).isNull().cast(\"int\")).alias(i) for i in data.columns]\n",
    "result = data.select(null_counts)\n",
    "result.show()"
   ]
  },
  {
   "cell_type": "code",
   "execution_count": 14,
   "metadata": {},
   "outputs": [
    {
     "data": {
      "text/plain": [
       "{'Column Name': 'age',\n",
       " 'Distinct Count': 80,\n",
       " 'Null Values Count': 65,\n",
       " 'Data Type of Column': IntegerType(),\n",
       " 'Total Values in the Column': 2640}"
      ]
     },
     "execution_count": 14,
     "metadata": {},
     "output_type": "execute_result"
    }
   ],
   "source": [
    "# All the operations are wrtiien in a function\n",
    "#to get the distint values in the column\n",
    "def distint_counts(data_frame:DataFrame,column:str):\n",
    "    try:\n",
    "        distinct_values=data_frame.select(column).distinct()\n",
    "        distinct_count=distinct_values.count()\n",
    "        null_values=data_frame.filter(data_frame[column].isNull()).count() #Null count\n",
    "        dtpyes_column=data_frame.schema[column].dataType\n",
    "        count_column=data_frame.select(\"age\").count() #To get the total count of the data\n",
    "        result = {\n",
    "            \"Column Name\": column,\n",
    "            \"Distinct Count\": distinct_count,\n",
    "            \"Null Values Count\": null_values,\n",
    "            \"Data Type of Column\":dtpyes_column,\n",
    "            \"Total Values in the Column\": count_column\n",
    "        }\n",
    "        return result\n",
    "    except Exception as e:  \n",
    "        return {    \n",
    "            \"Error the column name should be given in str  as will data should be in data frame\": str(e)\n",
    "        }\n",
    "distint_counts(data,\"age\")"
   ]
  },
  {
   "cell_type": "code",
   "execution_count": 15,
   "metadata": {},
   "outputs": [
    {
     "name": "stdout",
     "output_type": "stream",
     "text": [
      "+----+----------+--------------------+--------------------+----+--------------------+------------+--------------------+--------------------+--------------------+------------+--------+--------------------+------+---------+----------------+-----------------+-------+-------------+-----+--------------------+---------+----------+--------+-----------+------------------+--------------------+-----------------------------------+------------------------------------------+-----------------------+---------------------------+----------------------+------------------+----------------+-----------------+\n",
      "|rank|finalWorth|            category|          personName| age|             country|        city|              source|          industries|countryOfCitizenship|organization|selfMade|              status|gender|birthDate|        lastName|        firstName|  title|         date|state|residenceStateRegion|birthYear|birthMonth|birthDay|cpi_country|cpi_change_country|         gdp_country|gross_tertiary_education_enrollment|gross_primary_education_enrollment_country|life_expectancy_country|tax_revenue_country_country|total_tax_rate_country|population_country|latitude_country|longitude_country|\n",
      "+----+----------+--------------------+--------------------+----+--------------------+------------+--------------------+--------------------+--------------------+------------+--------+--------------------+------+---------+----------------+-----------------+-------+-------------+-----+--------------------+---------+----------+--------+-----------+------------------+--------------------+-----------------------------------+------------------------------------------+-----------------------+---------------------------+----------------------+------------------+----------------+-----------------+\n",
      "| 108|     15800|    Fashion & Retail|Karl Albrecht Jr....|NULL|             Germany|        NULL|        Supermarkets|    Fashion & Retail|             Germany|        NULL|   false|Split Family Fortune|     M|     NULL|    Albrecht Jr.|             Karl|   NULL|4/4/2023 5:01| NULL|                NULL|     NULL|      NULL|    NULL|     112.85|               1.4| $3,845,630,030,824 |                               70.2|                                     104.0|                   80.9|                       11.5|                  48.8|          83132799|       51.165691|        10.451526|\n",
      "| 108|     15800|    Fashion & Retail|       Beate Heister|NULL|                NULL|        NULL|        Supermarkets|    Fashion & Retail|             Germany|        NULL|   false|Split Family Fortune|     F|     NULL|         Heister|            Beate|   NULL|4/4/2023 5:01| NULL|                NULL|     NULL|      NULL|    NULL|       NULL|              NULL|                NULL|                               NULL|                                      NULL|                   NULL|                       NULL|                  NULL|              NULL|            NULL|             NULL|\n",
      "| 246|      8300|Finance & Investm...|Francine von Finc...|NULL|         Switzerland|     Thurgau|         Investments|Finance & Investm...|             Germany|        NULL|   false|                   D|     F|     NULL|       von Finck|         Francine|   NULL|4/4/2023 5:01| NULL|                NULL|     NULL|      NULL|    NULL|      99.55|               0.4|   $703,082,435,360 |                               59.6|                                     105.2|                   83.6|                       10.1|                  28.8|           8574832|       46.818188|         8.227512|\n",
      "| 534|      5000|         Real Estate|    Zhu Yan & family|NULL|               China|     Beijing|         Real estate|         Real Estate|               China|        NULL|   false|                   U|     F|     NULL|             Zhu|              Yan|   NULL|4/4/2023 5:01| NULL|                NULL|     NULL|      NULL|    NULL|     125.08|               2.9|$19,910,000,000,000 |                               50.6|                                     100.2|                   77.0|                        9.4|                  59.2|        1397715000|        35.86166|       104.195397|\n",
      "| 552|      4900|          Technology|     Marcos Galperin|NULL|           Argentina|Buenos Aires|          E-commerce|          Technology|           Argentina|        NULL|    true|                   U|     M|     NULL|        Galperin|           Marcos|   NULL|4/4/2023 5:01| NULL|                NULL|     NULL|      NULL|    NULL|     232.75|              53.5|   $449,663,446,954 |                               90.0|                                     109.7|                   76.5|                       10.1|                 106.3|          44938712|      -38.416097|       -63.616672|\n",
      "| 721|      3900|         Diversified|   Somurai Jaruphnit|NULL|            Thailand|     Bangkok|         Diversified|         Diversified|            Thailand|        NULL|   false|                   N|     F|     NULL|       Jaruphnit|          Somurai|   NULL|4/4/2023 5:01| NULL|                NULL|     NULL|      NULL|    NULL|     113.27|               0.7|   $543,649,976,166 |                               49.3|                                      99.8|                   76.9|                       14.9|                  29.5|          69625582|       15.870032|       100.992541|\n",
      "| 818|      3500|          Healthcare|Karin Sartorius-H...|NULL|             Germany|    Northeim|  Biopharmaceuticals|          Healthcare|             Germany|        NULL|   false|                   U|     F|     NULL|Sartorius-Herbst|            Karin|   NULL|4/4/2023 5:01| NULL|                NULL|     NULL|      NULL|    NULL|     112.85|               1.4| $3,845,630,030,824 |                               70.2|                                     104.0|                   80.9|                       11.5|                  48.8|          83132799|       51.165691|        10.451526|\n",
      "| 982|      3000|         Diversified|Abdulla bin Ahmad...|NULL|United Arab Emirates|       Dubai|         Diversified|         Diversified|United Arab Emirates|        NULL|   false|                   U|     M|     NULL|      Al Ghurair|Abdulla bin Ahmad|Athlete|4/4/2023 5:01| NULL|                NULL|     NULL|      NULL|    NULL|     114.52|              -1.9|   $421,142,267,938 |                               36.8|                                     108.4|                   77.8|                        0.1|                  15.9|           9770529|       23.424076|        53.847818|\n",
      "| 982|      3000|         Real Estate|  Chan Tan Ching-fen|NULL|           Hong Kong|   Hong Kong|         Real estate|         Real Estate|           Hong Kong|        NULL|   false|                   D|     F|     NULL|            Chan|    Tan Ching-fen|   NULL|4/4/2023 5:01| NULL|                NULL|     NULL|      NULL|    NULL|       NULL|              NULL|                NULL|                               NULL|                                      NULL|                   NULL|                       NULL|                  NULL|              NULL|            NULL|             NULL|\n",
      "|1067|      2800|          Technology|    Sebastian Glaser|NULL|             Germany|      Munich|   Sensor technology|          Technology|             Germany|        NULL|   false|                   U|     M|     NULL|          Glaser|        Sebastian|   NULL|4/4/2023 5:01| NULL|                NULL|     NULL|      NULL|    NULL|     112.85|               1.4| $3,845,630,030,824 |                               70.2|                                     104.0|                   80.9|                       11.5|                  48.8|          83132799|       51.165691|        10.451526|\n",
      "|1067|      2800|    Fashion & Retail|       Benjamin Otto|NULL|             Germany|     Hamburg|              Retail|    Fashion & Retail|             Germany|        NULL|   false|                   D|     M|     NULL|            Otto|         Benjamin|   NULL|4/4/2023 5:01| NULL|                NULL|     NULL|      NULL|    NULL|     112.85|               1.4| $3,845,630,030,824 |                               70.2|                                     104.0|                   80.9|                       11.5|                  48.8|          83132799|       51.165691|        10.451526|\n",
      "|1067|      2800|         Diversified|          Maren Otto|NULL|             Germany|      Berlin| Retail, real estate|         Diversified|             Germany|        NULL|   false|                   D|     F|     NULL|            Otto|            Maren|   NULL|4/4/2023 5:01| NULL|                NULL|     NULL|      NULL|    NULL|     112.85|               1.4| $3,845,630,030,824 |                               70.2|                                     104.0|                   80.9|                       11.5|                  48.8|          83132799|       51.165691|        10.451526|\n",
      "|1104|      2700|          Healthcare|         Ulrike Baro|NULL|             Germany|      Munich|  Biopharmaceuticals|          Healthcare|             Germany|        NULL|   false|                   U|     F|     NULL|            Baro|           Ulrike|   NULL|4/4/2023 5:01| NULL|                NULL|     NULL|      NULL|    NULL|     112.85|               1.4| $3,845,630,030,824 |                               70.2|                                     104.0|                   80.9|                       11.5|                  48.8|          83132799|       51.165691|        10.451526|\n",
      "|1104|      2700|     Food & Beverage|    Timm Oberwelland|NULL|                NULL|        NULL|               Candy|     Food & Beverage|             Germany|        NULL|   false|Split Family Fortune|     M|     NULL|     Oberwelland|             Timm|   NULL|4/4/2023 5:01| NULL|                NULL|     NULL|      NULL|    NULL|       NULL|              NULL|                NULL|                               NULL|                                      NULL|                   NULL|                       NULL|                  NULL|              NULL|            NULL|             NULL|\n",
      "|1104|      2700|Media & Entertain...|Christiane Schoeller|NULL|                NULL|        NULL|          Publishing|Media & Entertain...|             Germany|        NULL|   false|                   U|     F|     NULL|       Schoeller|       Christiane|   NULL|4/4/2023 5:01| NULL|                NULL|     NULL|      NULL|    NULL|       NULL|              NULL|                NULL|                               NULL|                                      NULL|                   NULL|                       NULL|                  NULL|              NULL|            NULL|             NULL|\n",
      "|1164|      2600|       Manufacturing|Anna Katharina Vi...|NULL|             Germany|  Battenberg|Heating and cooli...|       Manufacturing|             Germany|        NULL|   false|                   D|     F|     NULL|       Viessmann|   Anna Katharina|   NULL|4/4/2023 5:01| NULL|                NULL|     NULL|      NULL|    NULL|     112.85|               1.4| $3,845,630,030,824 |                               70.2|                                     104.0|                   80.9|                       11.5|                  48.8|          83132799|       51.165691|        10.451526|\n",
      "|1272|      2400|     Food & Beverage|          Pan Laican|NULL|               China|      foshan|           Soy sauce|     Food & Beverage|               China|        NULL|    true|                   D|     M|     NULL|             Pan|           Laican|   NULL|4/4/2023 5:01| NULL|                NULL|     NULL|      NULL|    NULL|     125.08|               2.9|$19,910,000,000,000 |                               50.6|                                     100.2|                   77.0|                        9.4|                  59.2|        1397715000|        35.86166|       104.195397|\n",
      "|1312|      2300|     Food & Beverage|        Jianping Lai|NULL|               China|      Foshan|           Soy sauce|     Food & Beverage|               China|        NULL|    true|                   D|     M|     NULL|             Lai|         Jianping|   NULL|4/4/2023 5:01| NULL|                NULL|     NULL|      NULL|    NULL|     125.08|               2.9|$19,910,000,000,000 |                               50.6|                                     100.2|                   77.0|                        9.4|                  59.2|        1397715000|        35.86166|       104.195397|\n",
      "|1312|      2300|     Food & Beverage|           Li Haiyan|NULL|               China|     Chengdu|         Restaurants|     Food & Beverage|               China|        NULL|    true|                   U|     F|     NULL|              Li|           Haiyan|   NULL|4/4/2023 5:01| NULL|                NULL|     NULL|      NULL|    NULL|     125.08|               2.9|$19,910,000,000,000 |                               50.6|                                     100.2|                   77.0|                        9.4|                  59.2|        1397715000|        35.86166|       104.195397|\n",
      "|1312|      2300|     Food & Beverage|    Augusto Perfetti|NULL|         Switzerland|      Lugano|               Candy|     Food & Beverage|               Italy|        NULL|   false|Split Family Fortune|     M|     NULL|        Perfetti|          Augusto|   NULL|4/4/2023 5:01| NULL|                NULL|     NULL|      NULL|    NULL|      99.55|               0.4|   $703,082,435,360 |                               59.6|                                     105.2|                   83.6|                       10.1|                  28.8|           8574832|       46.818188|         8.227512|\n",
      "+----+----------+--------------------+--------------------+----+--------------------+------------+--------------------+--------------------+--------------------+------------+--------+--------------------+------+---------+----------------+-----------------+-------+-------------+-----+--------------------+---------+----------+--------+-----------+------------------+--------------------+-----------------------------------+------------------------------------------+-----------------------+---------------------------+----------------------+------------------+----------------+-----------------+\n",
      "only showing top 20 rows\n",
      "\n"
     ]
    }
   ],
   "source": [
    "#using filter to see the null values \n",
    "data.filter(data[\"age\"].isNull()).show() "
   ]
  },
  {
   "cell_type": "code",
   "execution_count": 38,
   "metadata": {},
   "outputs": [],
   "source": [
    "#dropping the columns which are meaningless\n",
    "data=data.drop(\"lastName\",\"firstName\",\"date\")"
   ]
  },
  {
   "cell_type": "code",
   "execution_count": 17,
   "metadata": {},
   "outputs": [],
   "source": [
    "#Status: \"D\" represents self-made billionaires (Founders/Entrepreneurs) & \"U\" indicates inherited or unearned wealth.tatus: \"D\" represents self-made billionaires (Founders/Entrepreneurs) and \"U\" indicates inherited or unearned wealth.\n",
    "data=data.withColumn(\"status_billioners\",when(col(\"status\").contains(\"U\"),\"unearned_wealth\").when(col(\"status\").contains(\"D\"),\"self-made\").otherwise(col(\"status\")))"
   ]
  },
  {
   "cell_type": "code",
   "execution_count": 18,
   "metadata": {},
   "outputs": [],
   "source": [
    "#As the type of birthdate is in string we need to change it to date formate\n",
    "from pyspark.sql.functions import to_date\n",
    "data.select(\"birthDate\").dtypes\n",
    "data=data.withColumn(\"birthDate\", regexp_replace(\"birthDate\", \"0:00\", \"\"))\n",
    "#trimming the extra spaces\n",
    "data = data.withColumn(\"birthDate\", trim(col(\"birthDate\")))\n",
    "#converting the string formate to date type\n",
    "data=data.withColumn(\"birthDate\", to_date(\"birthDate\", \"M/d/yyyy\"))"
   ]
  },
  {
   "cell_type": "code",
   "execution_count": 19,
   "metadata": {},
   "outputs": [
    {
     "name": "stdout",
     "output_type": "stream",
     "text": [
      "+----+----------+--------------------+--------------------+---+-------------+-----------+--------------------+--------------------+--------------------+--------------------+--------+------+------+----------+--------------------+-------------+----------+--------------------+---------+----------+--------+-----------+------------------+--------------------+-----------------------------------+------------------------------------------+-----------------------+---------------------------+----------------------+------------------+----------------+-----------------+-----------------+\n",
      "|rank|finalWorth|            category|          personName|age|      country|       city|              source|          industries|countryOfCitizenship|        organization|selfMade|status|gender| birthDate|               title|         date|     state|residenceStateRegion|birthYear|birthMonth|birthDay|cpi_country|cpi_change_country|         gdp_country|gross_tertiary_education_enrollment|gross_primary_education_enrollment_country|life_expectancy_country|tax_revenue_country_country|total_tax_rate_country|population_country|latitude_country|longitude_country|status_billioners|\n",
      "+----+----------+--------------------+--------------------+---+-------------+-----------+--------------------+--------------------+--------------------+--------------------+--------+------+------+----------+--------------------+-------------+----------+--------------------+---------+----------+--------+-----------+------------------+--------------------+-----------------------------------+------------------------------------------+-----------------------+---------------------------+----------------------+------------------+----------------+-----------------+-----------------+\n",
      "|   1|    211000|    Fashion & Retail|Bernard Arnault &...| 74|       France|      Paris|                LVMH|    Fashion & Retail|              France|LVMH Moët Henness...|   false|     U|     M|1949-03-05|    Chairman and CEO|4/4/2023 5:01|      NULL|                NULL|     1949|         3|       5|     110.05|               1.1| $2,715,518,274,227 |                               65.6|                                     102.5|                   82.5|                       24.2|                  60.7|          67059887|       46.227638|         2.213749|  unearned_wealth|\n",
      "|   2|    180000|          Automotive|           Elon Musk| 51|United States|     Austin|       Tesla, SpaceX|          Automotive|       United States|               Tesla|    true|     D|     M|1971-06-28|                 CEO|4/4/2023 5:01|     Texas|               South|     1971|         6|      28|     117.24|               7.5|$21,427,700,000,000 |                               88.2|                                     101.8|                   78.5|                        9.6|                  36.6|         328239523|        37.09024|       -95.712891|        self-made|\n",
      "|   3|    114000|          Technology|          Jeff Bezos| 59|United States|     Medina|              Amazon|          Technology|       United States|              Amazon|    true|     D|     M|1964-01-12|Chairman and Founder|4/4/2023 5:01|Washington|                West|     1964|         1|      12|     117.24|               7.5|$21,427,700,000,000 |                               88.2|                                     101.8|                   78.5|                        9.6|                  36.6|         328239523|        37.09024|       -95.712891|        self-made|\n",
      "|   4|    107000|          Technology|       Larry Ellison| 78|United States|      Lanai|              Oracle|          Technology|       United States|              Oracle|    true|     U|     M|1944-08-17|     CTO and Founder|4/4/2023 5:01|    Hawaii|                West|     1944|         8|      17|     117.24|               7.5|$21,427,700,000,000 |                               88.2|                                     101.8|                   78.5|                        9.6|                  36.6|         328239523|        37.09024|       -95.712891|  unearned_wealth|\n",
      "|   5|    106000|Finance & Investm...|      Warren Buffett| 92|United States|      Omaha|  Berkshire Hathaway|Finance & Investm...|       United States|Berkshire Hathawa...|    true|     D|     M|1930-08-30|                 CEO|4/4/2023 5:01|  Nebraska|             Midwest|     1930|         8|      30|     117.24|               7.5|$21,427,700,000,000 |                               88.2|                                     101.8|                   78.5|                        9.6|                  36.6|         328239523|        37.09024|       -95.712891|        self-made|\n",
      "|   6|    104000|          Technology|          Bill Gates| 67|United States|     Medina|           Microsoft|          Technology|       United States|Bill & Melinda Ga...|    true|     D|     M|1955-10-28|             Cochair|4/4/2023 5:01|Washington|                West|     1955|        10|      28|     117.24|               7.5|$21,427,700,000,000 |                               88.2|                                     101.8|                   78.5|                        9.6|                  36.6|         328239523|        37.09024|       -95.712891|        self-made|\n",
      "|   7|     94500|Media & Entertain...|   Michael Bloomberg| 81|United States|   New York|        Bloomberg LP|Media & Entertain...|       United States|           Bloomberg|    true|     U|     M|1942-02-14|                 CEO|4/4/2023 5:01|  New York|           Northeast|     1942|         2|      14|     117.24|               7.5|$21,427,700,000,000 |                               88.2|                                     101.8|                   78.5|                        9.6|                  36.6|         328239523|        37.09024|       -95.712891|  unearned_wealth|\n",
      "|   8|     93000|             Telecom|Carlos Slim Helu ...| 83|       Mexico|Mexico City|             Telecom|             Telecom|              Mexico|       América Móvil|    true|     U|     M|1940-01-28|   Honorary Chairman|4/4/2023 5:01|      NULL|                NULL|     1940|         1|      28|     141.54|               3.6| $1,258,286,717,125 |                               40.2|                                     105.8|                   75.0|                       13.1|                  55.1|         126014024|       23.634501|      -102.552784|  unearned_wealth|\n",
      "|   9|     83400|         Diversified|       Mukesh Ambani| 65|        India|     Mumbai|         Diversified|         Diversified|               India| Reliance Industries|   false|     D|     M|1957-04-19|Founder and Chairman|4/4/2023 5:01|      NULL|                NULL|     1957|         4|      19|     180.44|               7.7| $2,611,000,000,000 |                               28.1|                                     113.0|                   69.4|                       11.2|                  49.7|        1366417754|       20.593684|         78.96288|        self-made|\n",
      "|  10|     80700|          Technology|       Steve Ballmer| 67|United States|Hunts Point|           Microsoft|          Technology|       United States|Los Angeles Clippers|    true|     D|     M|1956-03-24|               Owner|4/4/2023 5:01|Washington|                West|     1956|         3|      24|     117.24|               7.5|$21,427,700,000,000 |                               88.2|                                     101.8|                   78.5|                        9.6|                  36.6|         328239523|        37.09024|       -95.712891|        self-made|\n",
      "|  11|     80500|    Fashion & Retail|Francoise Bettenc...| 69|       France|      Paris|             L'Oréal|    Fashion & Retail|              France|                NULL|   false|     U|     F|1953-07-10|                NULL|4/4/2023 5:01|      NULL|                NULL|     1953|         7|      10|     110.05|               1.1| $2,715,518,274,227 |                               65.6|                                     102.5|                   82.5|                       24.2|                  60.7|          67059887|       46.227638|         2.213749|  unearned_wealth|\n",
      "|  12|     79200|          Technology|          Larry Page| 50|United States|  Palo Alto|              Google|          Technology|       United States|            Alphabet|    true|     D|     M|1973-03-26|Cofounder and boa...|4/4/2023 5:01|California|                West|     1973|         3|      26|     117.24|               7.5|$21,427,700,000,000 |                               88.2|                                     101.8|                   78.5|                        9.6|                  36.6|         328239523|        37.09024|       -95.712891|        self-made|\n",
      "|  13|     77300|    Fashion & Retail|      Amancio Ortega| 87|        Spain|  La Coruna|                Zara|    Fashion & Retail|               Spain|                NULL|    true|     U|     M|1936-03-28|                NULL|4/4/2023 5:01|      NULL|                NULL|     1936|         3|      28|     110.96|               0.7| $1,394,116,310,769 |                               88.9|                                     102.7|                   83.3|                       14.2|                  47.0|          47076781|       40.463667|         -3.74922|  unearned_wealth|\n",
      "|  14|     76000|          Technology|         Sergey Brin| 49|United States|  Los Altos|              Google|          Technology|       United States|            Alphabet|    true|     D|     M|1973-08-21|Cofounder and boa...|4/4/2023 5:01|California|                West|     1973|         8|      21|     117.24|               7.5|$21,427,700,000,000 |                               88.2|                                     101.8|                   78.5|                        9.6|                  36.6|         328239523|        37.09024|       -95.712891|        self-made|\n",
      "|  15|     68000|     Food & Beverage|      Zhong Shanshan| 68|        China|   Hangzhou|Beverages, pharma...|     Food & Beverage|               China|                NULL|    true|     U|     M|1954-12-01|                NULL|4/4/2023 5:01|      NULL|                NULL|     1954|        12|       1|     125.08|               2.9|$19,910,000,000,000 |                               50.6|                                     100.2|                   77.0|                        9.4|                  59.2|        1397715000|        35.86166|       104.195397|  unearned_wealth|\n",
      "|  16|     64400|          Technology|     Mark Zuckerberg| 38|United States|  Palo Alto|            Facebook|          Technology|       United States|      Meta Platforms|    true|     D|     M|1984-05-14|           Cofounder|4/4/2023 5:01|California|                West|     1984|         5|      14|     117.24|               7.5|$21,427,700,000,000 |                               88.2|                                     101.8|                   78.5|                        9.6|                  36.6|         328239523|        37.09024|       -95.712891|        self-made|\n",
      "|  17|     59000|         Diversified|Charles Koch & fa...| 87|United States|    Wichita|     Koch Industries|         Diversified|       United States|Koch Industries, ...|   false|     D|     M|1935-11-01|    Chairman and CEO|4/4/2023 5:01|    Kansas|             Midwest|     1935|        11|       1|     117.24|               7.5|$21,427,700,000,000 |                               88.2|                                     101.8|                   78.5|                        9.6|                  36.6|         328239523|        37.09024|       -95.712891|        self-made|\n",
      "|  17|     59000|         Diversified| Julia Koch & family| 60|United States|   New York|     Koch Industries|         Diversified|       United States|                NULL|   false|     D|     F|1962-04-12|                NULL|4/4/2023 5:01|  New York|           Northeast|     1962|         4|      12|     117.24|               7.5|$21,427,700,000,000 |                               88.2|                                     101.8|                   78.5|                        9.6|                  36.6|         328239523|        37.09024|       -95.712891|        self-made|\n",
      "|  19|     58800|    Fashion & Retail|          Jim Walton| 74|United States|Bentonville|             Walmart|    Fashion & Retail|       United States|Arvest Bank Group...|   false|     D|     M|1948-06-07|    Chairman and CEO|4/4/2023 5:01|  Arkansas|               South|     1948|         6|       7|     117.24|               7.5|$21,427,700,000,000 |                               88.2|                                     101.8|                   78.5|                        9.6|                  36.6|         328239523|        37.09024|       -95.712891|        self-made|\n",
      "|  20|     57600|    Fashion & Retail| Rob Walton & family| 78|United States|Bentonville|             Walmart|    Fashion & Retail|       United States|             Walmart|   false|     D|     M|1944-10-27|            Director|4/4/2023 5:01|  Arkansas|               South|     1944|        10|      27|     117.24|               7.5|$21,427,700,000,000 |                               88.2|                                     101.8|                   78.5|                        9.6|                  36.6|         328239523|        37.09024|       -95.712891|        self-made|\n",
      "+----+----------+--------------------+--------------------+---+-------------+-----------+--------------------+--------------------+--------------------+--------------------+--------+------+------+----------+--------------------+-------------+----------+--------------------+---------+----------+--------+-----------+------------------+--------------------+-----------------------------------+------------------------------------------+-----------------------+---------------------------+----------------------+------------------+----------------+-----------------+-----------------+\n",
      "only showing top 20 rows\n",
      "\n"
     ]
    }
   ],
   "source": [
    "data.show()"
   ]
  },
  {
   "cell_type": "code",
   "execution_count": 21,
   "metadata": {},
   "outputs": [
    {
     "name": "stdout",
     "output_type": "stream",
     "text": [
      "+--------------------+-----+\n",
      "|            category|count|\n",
      "+--------------------+-----+\n",
      "|             Telecom|   31|\n",
      "|     Metals & Mining|   74|\n",
      "|     Food & Beverage|  212|\n",
      "|              Energy|  100|\n",
      "|          Healthcare|  201|\n",
      "|Media & Entertain...|   91|\n",
      "|              Sports|   39|\n",
      "|         Real Estate|  193|\n",
      "|         Diversified|  187|\n",
      "|          Automotive|   73|\n",
      "|  Gambling & Casinos|   25|\n",
      "|Construction & En...|   45|\n",
      "|          Technology|  314|\n",
      "|    Fashion & Retail|  266|\n",
      "|             Service|   53|\n",
      "|Finance & Investm...|  372|\n",
      "|       Manufacturing|  324|\n",
      "|           Logistics|   40|\n",
      "+--------------------+-----+\n",
      "\n"
     ]
    }
   ],
   "source": [
    "#group by\n",
    "data.groupBy(\"category\").count().show()"
   ]
  },
  {
   "cell_type": "code",
   "execution_count": 31,
   "metadata": {},
   "outputs": [
    {
     "name": "stdout",
     "output_type": "stream",
     "text": [
      "+----+----------+--------------------+---------------+---+-------------+-----------+--------------------+--------------------+--------------------+--------------------+--------+------+------+----------+-------------+-------------+----------+--------------------+---------+----------+--------+-----------+------------------+--------------------+-----------------------------------+------------------------------------------+-----------------------+---------------------------+----------------------+------------------+----------------+-----------------+-----------------+\n",
      "|rank|finalWorth|            category|     personName|age|      country|       city|              source|          industries|countryOfCitizenship|        organization|selfMade|status|gender| birthDate|        title|         date|     state|residenceStateRegion|birthYear|birthMonth|birthDay|cpi_country|cpi_change_country|         gdp_country|gross_tertiary_education_enrollment|gross_primary_education_enrollment_country|life_expectancy_country|tax_revenue_country_country|total_tax_rate_country|population_country|latitude_country|longitude_country|status_billioners|\n",
      "+----+----------+--------------------+---------------+---+-------------+-----------+--------------------+--------------------+--------------------+--------------------+--------+------+------+----------+-------------+-------------+----------+--------------------+---------+----------+--------+-----------+------------------+--------------------+-----------------------------------+------------------------------------------+-----------------------+---------------------------+----------------------+------------------+----------------+-----------------+-----------------+\n",
      "| 146|     11800|         Diversified|    Robert Kuok| 99|    Hong Kong|  Hong Kong|Palm oil, shippin...|         Diversified|            Malaysia|                NULL|    true|     U|     M|1923-10-06|         NULL|4/4/2023 5:01|      NULL|                NULL|     1923|        10|       6|       NULL|              NULL|                NULL|                               NULL|                                      NULL|                   NULL|                       NULL|                  NULL|              NULL|            NULL|             NULL|  unearned_wealth|\n",
      "|1312|      2300|     Food & Beverage|  David Murdock| 99|United States|    Ventura|   Dole, real estate|     Food & Beverage|       United States|                NULL|    true|     E|     M|1923-04-10|         NULL|4/4/2023 5:01|California|                West|     1923|         4|      10|     117.24|               7.5|$21,427,700,000,000 |                               88.2|                                     101.8|                   78.5|                        9.6|                  36.6|         328239523|        37.09024|       -95.712891|                E|\n",
      "|1368|      2200|Finance & Investm...| Charles Munger| 99|United States|Los Angeles|  Berkshire Hathaway|Finance & Investm...|       United States|Berkshire Hathawa...|    true|     D|     M|1924-01-01|Vice Chairman|4/4/2023 5:01|California|                West|     1924|         1|       1|     117.24|               7.5|$21,427,700,000,000 |                               88.2|                                     101.8|                   78.5|                        9.6|                  36.6|         328239523|        37.09024|       -95.712891|        self-made|\n",
      "|2133|      1300|Finance & Investm...|  George Joseph|101|United States|Los Angeles|           Insurance|Finance & Investm...|       United States|                NULL|    true|     D|     M|1921-09-11|         NULL|4/4/2023 5:01|California|                West|     1921|         9|      11|     117.24|               7.5|$21,427,700,000,000 |                               88.2|                                     101.8|                   78.5|                        9.6|                  36.6|         328239523|        37.09024|       -95.712891|        self-made|\n",
      "|2259|      1200|         Diversified|Keshub Mahindra| 99|        India|     Mumbai|         Diversified|         Diversified|               India|                NULL|   false|     R|     M|1923-10-09|         NULL|4/4/2023 5:01|      NULL|                NULL|     1923|        10|       9|     180.44|               7.7| $2,611,000,000,000 |                               28.1|                                     113.0|                   69.4|                       11.2|                  49.7|        1366417754|       20.593684|         78.96288|                R|\n",
      "+----+----------+--------------------+---------------+---+-------------+-----------+--------------------+--------------------+--------------------+--------------------+--------+------+------+----------+-------------+-------------+----------+--------------------+---------+----------+--------+-----------+------------------+--------------------+-----------------------------------+------------------------------------------+-----------------------+---------------------------+----------------------+------------------+----------------+-----------------+-----------------+\n",
      "\n",
      "+----+----------+-----------+------------+---+---------+---------+--------------------+-----------+--------------------+------------+--------+------+------+----------+-----+-------------+-----+--------------------+---------+----------+--------+-----------+------------------+-----------+-----------------------------------+------------------------------------------+-----------------------+---------------------------+----------------------+------------------+----------------+-----------------+-----------------+\n",
      "|rank|finalWorth|   category|  personName|age|  country|     city|              source| industries|countryOfCitizenship|organization|selfMade|status|gender| birthDate|title|         date|state|residenceStateRegion|birthYear|birthMonth|birthDay|cpi_country|cpi_change_country|gdp_country|gross_tertiary_education_enrollment|gross_primary_education_enrollment_country|life_expectancy_country|tax_revenue_country_country|total_tax_rate_country|population_country|latitude_country|longitude_country|status_billioners|\n",
      "+----+----------+-----------+------------+---+---------+---------+--------------------+-----------+--------------------+------------+--------+------+------+----------+-----+-------------+-----+--------------------+---------+----------+--------+-----------+------------------+-----------+-----------------------------------+------------------------------------------+-----------------------+---------------------------+----------------------+------------------+----------------+-----------------+-----------------+\n",
      "|  47|     29500|Real Estate|Lee Shau Kee| 95|Hong Kong|Hong Kong|         Real estate|Real Estate|           Hong Kong|        NULL|    true|     D|     M|1928-01-29| NULL|4/4/2023 5:01| NULL|                NULL|     1928|         1|      29|       NULL|              NULL|       NULL|                               NULL|                                      NULL|                   NULL|                       NULL|                  NULL|              NULL|            NULL|             NULL|        self-made|\n",
      "| 146|     11800|Diversified| Robert Kuok| 99|Hong Kong|Hong Kong|Palm oil, shippin...|Diversified|            Malaysia|        NULL|    true|     U|     M|1923-10-06| NULL|4/4/2023 5:01| NULL|                NULL|     1923|        10|       6|       NULL|              NULL|       NULL|                               NULL|                                      NULL|                   NULL|                       NULL|                  NULL|              NULL|            NULL|             NULL|  unearned_wealth|\n",
      "+----+----------+-----------+------------+---+---------+---------+--------------------+-----------+--------------------+------------+--------+------+------+----------+-----+-------------+-----+--------------------+---------+----------+--------+-----------+------------------+-----------+-----------------------------------+------------------------------------------+-----------------------+---------------------------+----------------------+------------------+----------------+-----------------+-----------------+\n",
      "\n"
     ]
    }
   ],
   "source": [
    "data.filter(data[\"age\"]>=99).show()\n",
    "data.filter((col(\"age\")>=95) & (col(\"country\")==\"Hong Kong\")).show()"
   ]
  },
  {
   "cell_type": "code",
   "execution_count": 8,
   "metadata": {},
   "outputs": [
    {
     "name": "stdout",
     "output_type": "stream",
     "text": [
      "+----+----------+--------------------+--------------------+---+-------------+-------+-------------------+--------------------+--------------------+------------+--------+------+------+--------------+-----------+--------------+---------+-------------+-------+--------------------+---------+----------+--------+-----------+------------------+--------------------+-----------------------------------+------------------------------------------+-----------------------+---------------------------+----------------------+------------------+----------------+-----------------+\n",
      "|rank|finalWorth|            category|          personName|age|      country|   city|             source|          industries|countryOfCitizenship|organization|selfMade|status|gender|     birthDate|   lastName|     firstName|    title|         date|  state|residenceStateRegion|birthYear|birthMonth|birthDay|cpi_country|cpi_change_country|         gdp_country|gross_tertiary_education_enrollment|gross_primary_education_enrollment_country|life_expectancy_country|tax_revenue_country_country|total_tax_rate_country|population_country|latitude_country|longitude_country|\n",
      "+----+----------+--------------------+--------------------+---+-------------+-------+-------------------+--------------------+--------------------+------------+--------+------+------+--------------+-----------+--------------+---------+-------------+-------+--------------------+---------+----------+--------+-----------+------------------+--------------------+-----------------------------------+------------------------------------------+-----------------------+---------------------------+----------------------+------------------+----------------+-----------------+\n",
      "| 818|      3500|    Fashion & Retail|Clemente Del Vecchio| 18|        Italy|  Milan|          Eyeglases|    Fashion & Retail|               Italy|        NULL|   false|     N|     M| 5/6/2004 0:00|Del Vecchio|      Clemente|     NULL|4/4/2023 5:01|   NULL|                NULL|     2004|         5|       6|     110.62|               0.6| $2,001,244,392,042 |                               61.9|                                     101.9|                   82.9|                       24.3|                  59.1|          60297396|        41.87194|         12.56738|\n",
      "| 818|      3500|    Fashion & Retail|Leonardo Maria De...| 27|        Italy|  Milan|         Eyeglasses|    Fashion & Retail|               Italy|        NULL|   false|     N|     M| 5/6/1995 0:00|Del Vecchio|Leonardo Maria|     NULL|4/4/2023 5:01|   NULL|                NULL|     1995|         5|       6|     110.62|               0.6| $2,001,244,392,042 |                               61.9|                                     101.9|                   82.9|                       24.3|                  59.1|          60297396|        41.87194|         12.56738|\n",
      "| 818|      3500|    Fashion & Retail|    Luca Del Vecchio| 21|        Italy|  Milan|         Eyeglasses|    Fashion & Retail|               Italy|        NULL|   false|     N|     M|8/31/2001 0:00|Del Vecchio|          Luca|     NULL|4/4/2023 5:01|   NULL|                NULL|     2001|         8|      31|     110.62|               0.6| $2,001,244,392,042 |                               61.9|                                     101.9|                   82.9|                       24.3|                  59.1|          60297396|        41.87194|         12.56738|\n",
      "|1312|      2300|    Fashion & Retail| Kevin David Lehmann| 20|         NULL|   NULL|         Drugstores|    Fashion & Retail|             Germany|        NULL|   false|     D|     M| 9/1/2002 0:00|    Lehmann|   Kevin David|     NULL|4/4/2023 5:01|   NULL|                NULL|     2002|         9|       1|       NULL|              NULL|                NULL|                               NULL|                                      NULL|                   NULL|                       NULL|                  NULL|              NULL|            NULL|             NULL|\n",
      "|1725|      1700|Media & Entertain...|        Kim Jung-min| 21|         NULL|   NULL|      Online gaming|Media & Entertain...|         South Korea|        NULL|   false|     N|     F| 1/1/2002 0:00|        Kim|      Jung-min|     NULL|4/4/2023 5:01|   NULL|                NULL|     2002|         1|       1|       NULL|              NULL|                NULL|                               NULL|                                      NULL|                   NULL|                       NULL|                  NULL|              NULL|            NULL|             NULL|\n",
      "|1725|      1700|Media & Entertain...|       Kim Jung-youn| 19|         NULL|   NULL|      Online gaming|Media & Entertain...|         South Korea|        NULL|   false|     N|     F| 1/1/2004 0:00|        Kim|     Jung-youn|     NULL|4/4/2023 5:01|   NULL|                NULL|     2004|         1|       1|       NULL|              NULL|                NULL|                               NULL|                                      NULL|                   NULL|                       NULL|                  NULL|              NULL|            NULL|             NULL|\n",
      "|1905|      1500|         Diversified|  Alexandra Andresen| 26|       Norway|   Oslo|        Investments|         Diversified|              Norway|        NULL|   false|     U|     F|7/23/1996 0:00|   Andresen|     Alexandra|     NULL|4/4/2023 5:01|   NULL|                NULL|     1996|         7|      23|     120.27|               2.2|   $403,336,363,636 |                               82.0|                                     100.3|                   82.8|                       23.9|                  36.2|           5347896|       60.472024|         8.468946|\n",
      "|1905|      1500|         Diversified|  Katharina Andresen| 27|       Norway|   Oslo|        Investments|         Diversified|              Norway|        NULL|   false|     U|     F|5/21/1995 0:00|   Andresen|     Katharina|     NULL|4/4/2023 5:01|   NULL|                NULL|     1995|         5|      21|     120.27|               2.2|   $403,336,363,636 |                               82.0|                                     100.3|                   82.8|                       23.9|                  36.2|           5347896|       60.472024|         8.468946|\n",
      "|2020|      1400|     Metals & Mining|         Wang Zelong| 26|        China|Jiaozuo|          Chemicals|     Metals & Mining|               China|        NULL|   false|     D|     M| 7/1/1996 0:00|       Wang|        Zelong|     NULL|4/4/2023 5:01|   NULL|                NULL|     1996|         7|       1|     125.08|               2.9|$19,910,000,000,000 |                               50.6|                                     100.2|                   77.0|                        9.4|                  59.2|        1397715000|        35.86166|       104.195397|\n",
      "|2405|      1100|          Technology|        Ryan Breslow| 28|United States|  Miami|E-commerce software|          Technology|       United States|        Bolt|    true|     D|     M|5/20/1994 0:00|    Breslow|          Ryan|Cofounder|4/4/2023 5:01|Florida|               South|     1994|         5|      20|     117.24|               7.5|$21,427,700,000,000 |                               88.2|                                     101.8|                   78.5|                        9.6|                  36.6|         328239523|        37.09024|       -95.712891|\n",
      "+----+----------+--------------------+--------------------+---+-------------+-------+-------------------+--------------------+--------------------+------------+--------+------+------+--------------+-----------+--------------+---------+-------------+-------+--------------------+---------+----------+--------+-----------+------------------+--------------------+-----------------------------------+------------------------------------------+-----------------------+---------------------------+----------------------+------------------+----------------+-----------------+\n",
      "\n"
     ]
    }
   ],
   "source": [
    "column_name = \"age\"\n",
    "# Calculate quantiles\n",
    "quantiles = data.approxQuantile(column_name, [0.25,0.75], 0.01)\n",
    "# Calculate the interquartile range (IQR)\n",
    "IQR = quantiles[1] - quantiles[0]\n",
    "# Define the lower and upper bounds for outliers\n",
    "lower_bound = quantiles[0] - 1.5 * IQR\n",
    "upper_bound = quantiles[1] + 1.5 * IQR\n",
    "# Filter the DataFrame to identify potential outliers\n",
    "outliers = data.filter((col(column_name) < lower_bound) | (col(column_name) > upper_bound))\n",
    "\n",
    "# Show the potential outliers\n",
    "outliers.show() "
   ]
  },
  {
   "cell_type": "code",
   "execution_count": 10,
   "metadata": {},
   "outputs": [
    {
     "name": "stdout",
     "output_type": "stream",
     "text": [
      "+----+----------+--------------------+--------------------+---+-------------+-------+-------------------+--------------------+--------------------+------------+--------+------+------+--------------+-----------+--------------+---------+-------------+-------+--------------------+---------+----------+--------+-----------+------------------+--------------------+-----------------------------------+------------------------------------------+-----------------------+---------------------------+----------------------+------------------+----------------+-----------------+\n",
      "|rank|finalWorth|            category|          personName|age|      country|   city|             source|          industries|countryOfCitizenship|organization|selfMade|status|gender|     birthDate|   lastName|     firstName|    title|         date|  state|residenceStateRegion|birthYear|birthMonth|birthDay|cpi_country|cpi_change_country|         gdp_country|gross_tertiary_education_enrollment|gross_primary_education_enrollment_country|life_expectancy_country|tax_revenue_country_country|total_tax_rate_country|population_country|latitude_country|longitude_country|\n",
      "+----+----------+--------------------+--------------------+---+-------------+-------+-------------------+--------------------+--------------------+------------+--------+------+------+--------------+-----------+--------------+---------+-------------+-------+--------------------+---------+----------+--------+-----------+------------------+--------------------+-----------------------------------+------------------------------------------+-----------------------+---------------------------+----------------------+------------------+----------------+-----------------+\n",
      "| 818|      3500|    Fashion & Retail|Clemente Del Vecchio| 18|        Italy|  Milan|          Eyeglases|    Fashion & Retail|               Italy|        NULL|   false|     N|     M| 5/6/2004 0:00|Del Vecchio|      Clemente|     NULL|4/4/2023 5:01|   NULL|                NULL|     2004|         5|       6|     110.62|               0.6| $2,001,244,392,042 |                               61.9|                                     101.9|                   82.9|                       24.3|                  59.1|          60297396|        41.87194|         12.56738|\n",
      "| 818|      3500|    Fashion & Retail|Leonardo Maria De...| 27|        Italy|  Milan|         Eyeglasses|    Fashion & Retail|               Italy|        NULL|   false|     N|     M| 5/6/1995 0:00|Del Vecchio|Leonardo Maria|     NULL|4/4/2023 5:01|   NULL|                NULL|     1995|         5|       6|     110.62|               0.6| $2,001,244,392,042 |                               61.9|                                     101.9|                   82.9|                       24.3|                  59.1|          60297396|        41.87194|         12.56738|\n",
      "| 818|      3500|    Fashion & Retail|    Luca Del Vecchio| 21|        Italy|  Milan|         Eyeglasses|    Fashion & Retail|               Italy|        NULL|   false|     N|     M|8/31/2001 0:00|Del Vecchio|          Luca|     NULL|4/4/2023 5:01|   NULL|                NULL|     2001|         8|      31|     110.62|               0.6| $2,001,244,392,042 |                               61.9|                                     101.9|                   82.9|                       24.3|                  59.1|          60297396|        41.87194|         12.56738|\n",
      "|1312|      2300|    Fashion & Retail| Kevin David Lehmann| 20|         NULL|   NULL|         Drugstores|    Fashion & Retail|             Germany|        NULL|   false|     D|     M| 9/1/2002 0:00|    Lehmann|   Kevin David|     NULL|4/4/2023 5:01|   NULL|                NULL|     2002|         9|       1|       NULL|              NULL|                NULL|                               NULL|                                      NULL|                   NULL|                       NULL|                  NULL|              NULL|            NULL|             NULL|\n",
      "|1725|      1700|Media & Entertain...|        Kim Jung-min| 21|         NULL|   NULL|      Online gaming|Media & Entertain...|         South Korea|        NULL|   false|     N|     F| 1/1/2002 0:00|        Kim|      Jung-min|     NULL|4/4/2023 5:01|   NULL|                NULL|     2002|         1|       1|       NULL|              NULL|                NULL|                               NULL|                                      NULL|                   NULL|                       NULL|                  NULL|              NULL|            NULL|             NULL|\n",
      "|1725|      1700|Media & Entertain...|       Kim Jung-youn| 19|         NULL|   NULL|      Online gaming|Media & Entertain...|         South Korea|        NULL|   false|     N|     F| 1/1/2004 0:00|        Kim|     Jung-youn|     NULL|4/4/2023 5:01|   NULL|                NULL|     2004|         1|       1|       NULL|              NULL|                NULL|                               NULL|                                      NULL|                   NULL|                       NULL|                  NULL|              NULL|            NULL|             NULL|\n",
      "|1905|      1500|         Diversified|  Alexandra Andresen| 26|       Norway|   Oslo|        Investments|         Diversified|              Norway|        NULL|   false|     U|     F|7/23/1996 0:00|   Andresen|     Alexandra|     NULL|4/4/2023 5:01|   NULL|                NULL|     1996|         7|      23|     120.27|               2.2|   $403,336,363,636 |                               82.0|                                     100.3|                   82.8|                       23.9|                  36.2|           5347896|       60.472024|         8.468946|\n",
      "|1905|      1500|         Diversified|  Katharina Andresen| 27|       Norway|   Oslo|        Investments|         Diversified|              Norway|        NULL|   false|     U|     F|5/21/1995 0:00|   Andresen|     Katharina|     NULL|4/4/2023 5:01|   NULL|                NULL|     1995|         5|      21|     120.27|               2.2|   $403,336,363,636 |                               82.0|                                     100.3|                   82.8|                       23.9|                  36.2|           5347896|       60.472024|         8.468946|\n",
      "|2020|      1400|     Metals & Mining|         Wang Zelong| 26|        China|Jiaozuo|          Chemicals|     Metals & Mining|               China|        NULL|   false|     D|     M| 7/1/1996 0:00|       Wang|        Zelong|     NULL|4/4/2023 5:01|   NULL|                NULL|     1996|         7|       1|     125.08|               2.9|$19,910,000,000,000 |                               50.6|                                     100.2|                   77.0|                        9.4|                  59.2|        1397715000|        35.86166|       104.195397|\n",
      "|2405|      1100|          Technology|        Ryan Breslow| 28|United States|  Miami|E-commerce software|          Technology|       United States|        Bolt|    true|     D|     M|5/20/1994 0:00|    Breslow|          Ryan|Cofounder|4/4/2023 5:01|Florida|               South|     1994|         5|      20|     117.24|               7.5|$21,427,700,000,000 |                               88.2|                                     101.8|                   78.5|                        9.6|                  36.6|         328239523|        37.09024|       -95.712891|\n",
      "+----+----------+--------------------+--------------------+---+-------------+-------+-------------------+--------------------+--------------------+------------+--------+------+------+--------------+-----------+--------------+---------+-------------+-------+--------------------+---------+----------+--------+-----------+------------------+--------------------+-----------------------------------+------------------------------------------+-----------------------+---------------------------+----------------------+------------------+----------------+-----------------+\n",
      "\n",
      "+----+----------+--------+----------+---+-------+----+------+----------+--------------------+------------+--------+------+------+---------+--------+---------+-----+----+-----+--------------------+---------+----------+--------+-----------+------------------+-----------+-----------------------------------+------------------------------------------+-----------------------+---------------------------+----------------------+------------------+----------------+-----------------+\n",
      "|rank|finalWorth|category|personName|age|country|city|source|industries|countryOfCitizenship|organization|selfMade|status|gender|birthDate|lastName|firstName|title|date|state|residenceStateRegion|birthYear|birthMonth|birthDay|cpi_country|cpi_change_country|gdp_country|gross_tertiary_education_enrollment|gross_primary_education_enrollment_country|life_expectancy_country|tax_revenue_country_country|total_tax_rate_country|population_country|latitude_country|longitude_country|\n",
      "+----+----------+--------+----------+---+-------+----+------+----------+--------------------+------------+--------+------+------+---------+--------+---------+-----+----+-----+--------------------+---------+----------+--------+-----------+------------------+-----------+-----------------------------------+------------------------------------------+-----------------------+---------------------------+----------------------+------------------+----------------+-----------------+\n",
      "+----+----------+--------+----------+---+-------+----+------+----------+--------------------+------------+--------+------+------+---------+--------+---------+-----+----+-----+--------------------+---------+----------+--------+-----------+------------------+-----------+-----------------------------------+------------------------------------------+-----------------------+---------------------------+----------------------+------------------+----------------+-----------------+\n",
      "\n"
     ]
    }
   ],
   "source": [
    "lower_outliers = data.filter(col(column_name) < lower_bound)\n",
    "upper_outliers=data.filter(col(column_name)> upper_bound)\n",
    "lower_outliers.show()\n",
    "upper_outliers.show()"
   ]
  },
  {
   "cell_type": "code",
   "execution_count": null,
   "metadata": {},
   "outputs": [],
   "source": []
  },
  {
   "cell_type": "code",
   "execution_count": null,
   "metadata": {},
   "outputs": [],
   "source": []
  },
  {
   "cell_type": "code",
   "execution_count": 36,
   "metadata": {},
   "outputs": [
    {
     "data": {
      "text/plain": [
       "65.14019417475728"
      ]
     },
     "execution_count": 36,
     "metadata": {},
     "output_type": "execute_result"
    }
   ],
   "source": [
    "data.select(mean(column_name)).collect()[0][0]"
   ]
  },
  {
   "cell_type": "code",
   "execution_count": 70,
   "metadata": {},
   "outputs": [
    {
     "name": "stdout",
     "output_type": "stream",
     "text": [
      "+--------------+\n",
      "|   gdp_country|\n",
      "+--------------+\n",
      "| 2715518274227|\n",
      "|21427700000000|\n",
      "|21427700000000|\n",
      "|21427700000000|\n",
      "|21427700000000|\n",
      "|21427700000000|\n",
      "|21427700000000|\n",
      "| 1258286717125|\n",
      "| 2611000000000|\n",
      "|21427700000000|\n",
      "| 2715518274227|\n",
      "|21427700000000|\n",
      "| 1394116310769|\n",
      "|21427700000000|\n",
      "|19910000000000|\n",
      "|21427700000000|\n",
      "|21427700000000|\n",
      "|21427700000000|\n",
      "|21427700000000|\n",
      "|21427700000000|\n",
      "+--------------+\n",
      "only showing top 20 rows\n",
      "\n"
     ]
    }
   ],
   "source": [
    "data=data.withColumn(\"gdp_country\",regexp_replace(\"gdp_country\",\"[^0-9.]\",\"\"))\n",
    "data=data.withColumn(\"gdp_country\", col(\"gdp_country\").cast(\"bigint\")).select(\"gdp_country\")"
   ]
  },
  {
   "cell_type": "code",
   "execution_count": 72,
   "metadata": {},
   "outputs": [
    {
     "ename": "AttributeError",
     "evalue": "'NoneType' object has no attribute 'columns'",
     "output_type": "error",
     "traceback": [
      "\u001b[1;31m---------------------------------------------------------------------------\u001b[0m",
      "\u001b[1;31mAttributeError\u001b[0m                            Traceback (most recent call last)",
      "\u001b[1;32mc:\\Users\\DELL\\Documents\\vs code files\\project-1_pratice.ipynb Cell 18\u001b[0m line \u001b[0;36m1\n\u001b[1;32m----> <a href='vscode-notebook-cell:/c%3A/Users/DELL/Documents/vs%20code%20files/project-1_pratice.ipynb#X34sZmlsZQ%3D%3D?line=0'>1</a>\u001b[0m unique_counts \u001b[39m=\u001b[39m [(col_name, data\u001b[39m.\u001b[39mselect(col(col_name))\u001b[39m.\u001b[39mdistinct()\u001b[39m.\u001b[39mcount()) \u001b[39mfor\u001b[39;00m col_name \u001b[39min\u001b[39;00m data\u001b[39m.\u001b[39;49mcolumns]\n\u001b[0;32m      <a href='vscode-notebook-cell:/c%3A/Users/DELL/Documents/vs%20code%20files/project-1_pratice.ipynb#X34sZmlsZQ%3D%3D?line=2'>3</a>\u001b[0m \u001b[39m# Print the results\u001b[39;00m\n\u001b[0;32m      <a href='vscode-notebook-cell:/c%3A/Users/DELL/Documents/vs%20code%20files/project-1_pratice.ipynb#X34sZmlsZQ%3D%3D?line=3'>4</a>\u001b[0m \u001b[39mfor\u001b[39;00m col_name, count \u001b[39min\u001b[39;00m unique_counts:\n",
      "\u001b[1;31mAttributeError\u001b[0m: 'NoneType' object has no attribute 'columns'"
     ]
    }
   ],
   "source": [
    "unique_counts = [(col_name, data.select(col(col_name)).distinct().count()) for col_name in data.columns]\n",
    "# Print the results\n",
    "for col_name, count in unique_counts:\n",
    "    print(f\"Number of unique values in column '{col_name}': {count}\")"
   ]
  }
 ],
 "metadata": {
  "kernelspec": {
   "display_name": "salvapyspark",
   "language": "python",
   "name": "python3"
  },
  "language_info": {
   "codemirror_mode": {
    "name": "ipython",
    "version": 3
   },
   "file_extension": ".py",
   "mimetype": "text/x-python",
   "name": "python",
   "nbconvert_exporter": "python",
   "pygments_lexer": "ipython3",
   "version": "3.11.6"
  }
 },
 "nbformat": 4,
 "nbformat_minor": 2
}
